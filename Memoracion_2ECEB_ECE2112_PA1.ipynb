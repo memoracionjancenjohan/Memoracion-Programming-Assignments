{
 "cells": [
  {
   "cell_type": "markdown",
   "id": "13b4f275-9edb-4700-93b5-174662cdd100",
   "metadata": {},
   "source": [
    "# Memoracion, Jancen Johan\n",
    "# 2ECEB\n",
    "# EXPERIMENT 1 - Introduction to Python Programming"
   ]
  },
  {
   "cell_type": "markdown",
   "id": "ab212880-3653-45d9-afda-d36989769464",
   "metadata": {},
   "source": [
    "#"
   ]
  },
  {
   "cell_type": "markdown",
   "id": "0e62ca1b-0af1-4aa3-a958-6a27a062fb75",
   "metadata": {},
   "source": [
    "# Alphabet Soup Problem:"
   ]
  },
  {
   "cell_type": "code",
   "execution_count": 27,
   "id": "c9daf7a9-9ef3-41ff-8672-2b3aa54d90cd",
   "metadata": {},
   "outputs": [],
   "source": [
    "#Source Code\n",
    "def alphabet_soup(word):\n",
    "    while len(word) <= 1 or not word.isalpha():\n",
    "        print(\"\\nYou did not put a valid word\")\n",
    "        print(\"Please try again\\n\")\n",
    "        word = input(\"Enter a word: \")\n",
    "    return \"\".join(sorted(word, key=str.lower))"
   ]
  },
  {
   "cell_type": "code",
   "execution_count": 28,
   "id": "21c963a1-85fa-47a2-ab35-263f705d0b2c",
   "metadata": {},
   "outputs": [
    {
     "name": "stdout",
     "output_type": "stream",
     "text": [
      "aelpp\n",
      "acehkr\n"
     ]
    }
   ],
   "source": [
    "#Example\n",
    "print(alphabet_soup(\"apple\"))\n",
    "print(alphabet_soup(\"hacker\"))"
   ]
  },
  {
   "cell_type": "code",
   "execution_count": 30,
   "id": "46426802-ec3a-4636-b7ab-9691378e1c36",
   "metadata": {},
   "outputs": [
    {
     "name": "stdin",
     "output_type": "stream",
     "text": [
      "Enter a word:  hello\n"
     ]
    },
    {
     "data": {
      "text/plain": [
       "'ehllo'"
      ]
     },
     "execution_count": 30,
     "metadata": {},
     "output_type": "execute_result"
    }
   ],
   "source": [
    "#Test Input\n",
    "alphabet_soup(input(\"Enter a word: \"))"
   ]
  },
  {
   "cell_type": "markdown",
   "id": "479853d9-d510-47c1-b561-371d7ff5903c",
   "metadata": {},
   "source": [
    "#"
   ]
  },
  {
   "cell_type": "markdown",
   "id": "e6bdcfa7-2bb6-4a59-ab55-29c867927e88",
   "metadata": {},
   "source": [
    "# Emoticon Problem:"
   ]
  },
  {
   "cell_type": "code",
   "execution_count": 33,
   "id": "32e30a0b-134b-49f4-a728-2ad5e7a6cf0a",
   "metadata": {},
   "outputs": [],
   "source": [
    "#Source Code\n",
    "def emotify(sentence):\n",
    "    emojis = {\"smile\": \":)\", \"grin\": \":D\", \"sad\": \":((\", \"mad\": \">:(\"}\n",
    "    words = sentence.split()\n",
    "    new_words = [emojis.get(word.lower(), word) for word in words]\n",
    "    return \" \".join(new_words)"
   ]
  },
  {
   "cell_type": "code",
   "execution_count": 34,
   "id": "99352818-41a2-4949-b3c2-4669a9551b30",
   "metadata": {},
   "outputs": [
    {
     "name": "stdout",
     "output_type": "stream",
     "text": [
      "Make me :)\n",
      "I am >:(\n"
     ]
    }
   ],
   "source": [
    "#Example\n",
    "print(emotify(\"Make me smile\"))\n",
    "print(emotify(\"I am mad\"))"
   ]
  },
  {
   "cell_type": "code",
   "execution_count": 35,
   "id": "ae2d623c-5099-4f3e-ae27-e5f4824817ee",
   "metadata": {},
   "outputs": [
    {
     "name": "stdin",
     "output_type": "stream",
     "text": [
      "Type a word:  I am smile\n"
     ]
    },
    {
     "name": "stdout",
     "output_type": "stream",
     "text": [
      "I am :)\n"
     ]
    }
   ],
   "source": [
    "#Test Input\n",
    "print(emotify(input(\"Type a word: \")))"
   ]
  },
  {
   "cell_type": "markdown",
   "id": "43e15a79-7a17-4408-b410-42ef13775de4",
   "metadata": {},
   "source": [
    "#"
   ]
  },
  {
   "cell_type": "markdown",
   "id": "c497d930-6dce-4ca8-81eb-fff9776c6205",
   "metadata": {},
   "source": [
    "# Unpacking List Problem:"
   ]
  },
  {
   "cell_type": "code",
   "execution_count": 36,
   "id": "b3c2ea95-7feb-4a0e-822f-1baa5f322b70",
   "metadata": {},
   "outputs": [],
   "source": [
    "#Source Code\n",
    "def unpack_list(lst):\n",
    "    first = lst[0]\n",
    "    middle = lst[1:-1]\n",
    "    last = lst[-1]\n",
    "    return first, middle, last"
   ]
  },
  {
   "cell_type": "code",
   "execution_count": 40,
   "id": "46d8a708-44e5-4124-a266-69b816f5e95b",
   "metadata": {},
   "outputs": [
    {
     "name": "stdout",
     "output_type": "stream",
     "text": [
      "first: 1  middle: [2, 3, 4, 5]  last: 6\n"
     ]
    }
   ],
   "source": [
    "#Example\n",
    "lst = [1, 2, 3, 4, 5, 6]\n",
    "first, middle, last = unpack_list(lst)\n",
    "print(f\"first: {first}  middle: {middle}  last: {last}\")"
   ]
  },
  {
   "cell_type": "code",
   "execution_count": 41,
   "id": "e45a9551-9309-4b8e-8a6a-b48df9dc694c",
   "metadata": {},
   "outputs": [
    {
     "name": "stdin",
     "output_type": "stream",
     "text": [
      "Enter the elements separated by spaces:  1 2 3 4 5 6 7 8 9 0\n"
     ]
    },
    {
     "name": "stdout",
     "output_type": "stream",
     "text": [
      "first: 1  middle: [2, 3, 4, 5, 6, 7, 8, 9]  last: 0\n"
     ]
    }
   ],
   "source": [
    "#Test Input\n",
    "user_input = input(\"Enter the elements separated by spaces: \")\n",
    "lst = list(map(int, user_input.split()))\n",
    "first, middle, last = unpack_list(lst)\n",
    "print(f\"first: {first}  middle: {middle}  last: {last}\")"
   ]
  }
 ],
 "metadata": {
  "kernelspec": {
   "display_name": "Python 3 (ipykernel)",
   "language": "python",
   "name": "python3"
  },
  "language_info": {
   "codemirror_mode": {
    "name": "ipython",
    "version": 3
   },
   "file_extension": ".py",
   "mimetype": "text/x-python",
   "name": "python",
   "nbconvert_exporter": "python",
   "pygments_lexer": "ipython3",
   "version": "3.13.5"
  }
 },
 "nbformat": 4,
 "nbformat_minor": 5
}
